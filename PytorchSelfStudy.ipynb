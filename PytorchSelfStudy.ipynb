{
  "cells": [
    {
      "cell_type": "markdown",
      "metadata": {
        "id": "view-in-github",
        "colab_type": "text"
      },
      "source": [
        "<a href=\"https://colab.research.google.com/github/arunprithviraj/PyTorchSelfStudy/blob/main/PytorchSelfStudy.ipynb\" target=\"_parent\"><img src=\"https://colab.research.google.com/assets/colab-badge.svg\" alt=\"Open In Colab\"/></a>"
      ]
    },
    {
      "cell_type": "code",
      "source": [
        "import torch\n",
        "import pandas as pd\n",
        "import numpy as np\n",
        "import matplotlib.pyplot as plt\n",
        "print(torch.__version__)\n",
        "print(pd.__version__)\n",
        "print(np.__version__)\n"
      ],
      "metadata": {
        "colab": {
          "base_uri": "https://localhost:8080/"
        },
        "id": "Mld4Cb7tCUI8",
        "outputId": "31c0d737-3907-4332-cb0b-d61acb5fc57c"
      },
      "execution_count": null,
      "outputs": [
        {
          "output_type": "stream",
          "name": "stdout",
          "text": [
            "2.5.1+cu124\n",
            "2.2.2\n",
            "1.26.4\n"
          ]
        }
      ]
    },
    {
      "cell_type": "markdown",
      "source": [
        "*[italicized text](https://)*# New Section"
      ],
      "metadata": {
        "id": "W2i8I27qEvr7"
      }
    },
    {
      "cell_type": "code",
      "source": [
        "#scalar datatype\n",
        "scalar = torch.tensor(7)\n",
        "print(f\"Scalar:{scalar}\")\n",
        "scalar.ndim\n",
        "scalar.shape"
      ],
      "metadata": {
        "colab": {
          "base_uri": "https://localhost:8080/"
        },
        "id": "Nw3Xk35GC0ZU",
        "outputId": "9cb135d8-93ae-4153-97ec-5b50c628bec8"
      },
      "execution_count": null,
      "outputs": [
        {
          "output_type": "stream",
          "name": "stdout",
          "text": [
            "Scalar:7\n"
          ]
        },
        {
          "output_type": "execute_result",
          "data": {
            "text/plain": [
              "torch.Size([])"
            ]
          },
          "metadata": {},
          "execution_count": 3
        }
      ]
    },
    {
      "cell_type": "code",
      "source": [
        "vector = torch.tensor([7,11])\n",
        "print(f\"Vector:{vector}\")\n",
        "vector.ndim"
      ],
      "metadata": {
        "colab": {
          "base_uri": "https://localhost:8080/"
        },
        "id": "5QEvcFS3FfPO",
        "outputId": "117ca91b-f482-4f35-afb9-0dbc5b7f599f"
      },
      "execution_count": null,
      "outputs": [
        {
          "output_type": "stream",
          "name": "stdout",
          "text": [
            "Vector:tensor([ 7, 11])\n"
          ]
        },
        {
          "output_type": "execute_result",
          "data": {
            "text/plain": [
              "1"
            ]
          },
          "metadata": {},
          "execution_count": 4
        }
      ]
    },
    {
      "cell_type": "code",
      "source": [
        "vector.shape"
      ],
      "metadata": {
        "colab": {
          "base_uri": "https://localhost:8080/"
        },
        "id": "Vq023qKzGKtN",
        "outputId": "e3a0b0e3-f387-4f1b-a770-fdcaa33196a8"
      },
      "execution_count": null,
      "outputs": [
        {
          "output_type": "execute_result",
          "data": {
            "text/plain": [
              "torch.Size([2])"
            ]
          },
          "metadata": {},
          "execution_count": 5
        }
      ]
    },
    {
      "cell_type": "code",
      "source": [
        "#matrix\n",
        "matrix = torch.tensor([[1,2],[4,5]])\n",
        "print(f\"Matrix:{matrix}\")\n",
        "matrix.ndim\n"
      ],
      "metadata": {
        "colab": {
          "base_uri": "https://localhost:8080/"
        },
        "id": "LFJHSTmeGSBJ",
        "outputId": "6e86c3b3-ef32-4a2d-e018-6b255ba69e8f"
      },
      "execution_count": null,
      "outputs": [
        {
          "output_type": "stream",
          "name": "stdout",
          "text": [
            "Matrix:tensor([[1, 2],\n",
            "        [4, 5]])\n"
          ]
        },
        {
          "output_type": "execute_result",
          "data": {
            "text/plain": [
              "2"
            ]
          },
          "metadata": {},
          "execution_count": 6
        }
      ]
    },
    {
      "cell_type": "code",
      "source": [
        "matrix.shape"
      ],
      "metadata": {
        "colab": {
          "base_uri": "https://localhost:8080/"
        },
        "id": "DiLS1LX-Ghmv",
        "outputId": "f8664c35-6376-4ecc-f378-9f177eb5b817"
      },
      "execution_count": null,
      "outputs": [
        {
          "output_type": "execute_result",
          "data": {
            "text/plain": [
              "torch.Size([2, 2])"
            ]
          },
          "metadata": {},
          "execution_count": 7
        }
      ]
    },
    {
      "cell_type": "code",
      "source": [
        "matrix[0]"
      ],
      "metadata": {
        "id": "qMUZqcv0cQ09",
        "outputId": "5cacb511-1419-4877-c4c2-7d272c7ed311",
        "colab": {
          "base_uri": "https://localhost:8080/"
        }
      },
      "execution_count": null,
      "outputs": [
        {
          "output_type": "execute_result",
          "data": {
            "text/plain": [
              "tensor([1, 2])"
            ]
          },
          "metadata": {},
          "execution_count": 12
        }
      ]
    },
    {
      "cell_type": "code",
      "source": [
        "### Random tensors\n",
        "import torch\n",
        "RANDOM_TENSOR = torch.rand(3,4)\n",
        "RANDOM_TENSOR\n"
      ],
      "metadata": {
        "colab": {
          "base_uri": "https://localhost:8080/"
        },
        "id": "fXoRLHIgad6a",
        "outputId": "958ec9ae-d28f-4e45-bf71-b7c8c1a5058f"
      },
      "execution_count": 19,
      "outputs": [
        {
          "output_type": "execute_result",
          "data": {
            "text/plain": [
              "tensor([[0.9335, 0.4559, 0.5693, 0.8856],\n",
              "        [0.6949, 0.2850, 0.1678, 0.4761],\n",
              "        [0.9793, 0.4228, 0.0510, 0.8443]])"
            ]
          },
          "metadata": {},
          "execution_count": 19
        }
      ]
    },
    {
      "cell_type": "code",
      "source": [
        "RANDOM_IMAGE_SIZE_TENSOR = torch.rand(size=(3,4))\n",
        "ZEROS_TENSOR = torch.zeros(size=(3,4))\n",
        "ONES_TENSOR = torch.ones(size=(3,4))\n",
        "RANDOM_IMAGE_SIZE_TENSOR.shape,ZEROS_TENSOR.dtype, ONES_TENSOR.dtype\n",
        "\n"
      ],
      "metadata": {
        "colab": {
          "base_uri": "https://localhost:8080/"
        },
        "id": "VDo5RoxHcfrQ",
        "outputId": "685923bf-3145-41f9-d4df-2c39d1481330"
      },
      "execution_count": 29,
      "outputs": [
        {
          "output_type": "execute_result",
          "data": {
            "text/plain": [
              "(torch.Size([3, 4]), torch.float32, torch.float32)"
            ]
          },
          "metadata": {},
          "execution_count": 29
        }
      ]
    },
    {
      "cell_type": "markdown",
      "source": [
        "Create a range of tensors"
      ],
      "metadata": {
        "id": "K0XbMCPTeqQC"
      }
    },
    {
      "cell_type": "code",
      "source": [
        "one_to_ten = torch.arange(start=1,end=11, step = 1)\n",
        "one_to_ten"
      ],
      "metadata": {
        "colab": {
          "base_uri": "https://localhost:8080/"
        },
        "id": "Kats3n6qeslL",
        "outputId": "7c138cde-49b5-4c04-cb3e-43464bbb0a74"
      },
      "execution_count": 39,
      "outputs": [
        {
          "output_type": "execute_result",
          "data": {
            "text/plain": [
              "tensor([ 1,  2,  3,  4,  5,  6,  7,  8,  9, 10])"
            ]
          },
          "metadata": {},
          "execution_count": 39
        }
      ]
    },
    {
      "cell_type": "code",
      "source": [
        "ten_zeros = torch.zeros_like(input=RANDOM_IMAGE_SIZE_TENSOR)\n",
        "ten_zeros"
      ],
      "metadata": {
        "colab": {
          "base_uri": "https://localhost:8080/"
        },
        "id": "C99cdjDMcfnX",
        "outputId": "d9f3d64e-1a61-4e59-ebc4-5f47df36127d"
      },
      "execution_count": 42,
      "outputs": [
        {
          "output_type": "execute_result",
          "data": {
            "text/plain": [
              "tensor([[0., 0., 0., 0.],\n",
              "        [0., 0., 0., 0.],\n",
              "        [0., 0., 0., 0.]])"
            ]
          },
          "metadata": {},
          "execution_count": 42
        }
      ]
    },
    {
      "cell_type": "code",
      "source": [
        "float_32_tensor = torch.tensor([3.0,6.0,9.0],dtype=torch.float32)\n",
        "float_64_tensor = torch.tensor([1.0,2.0,3.0],dtype=torch.float64)\n",
        "float_16_tensor = float_32_tensor.type(torch.float16)\n",
        "int_32_tensor = torch.tensor([3,6,9],device=\"cpu\",dtype=torch.long)#Can use device = \"cuda\" to make it GPU then the multiplication won't work\n",
        "print(f'Tensor Size is :{int_32_tensor.size()}')\n",
        "print(f'Tensor Shape is :{int_32_tensor.shape}')\n",
        "print(f'Tensor Dimension is :{int_32_tensor.ndim}')\n",
        "print(f\"Tensor Device is :{int_32_tensor.device}\")"
      ],
      "metadata": {
        "colab": {
          "base_uri": "https://localhost:8080/"
        },
        "id": "CgwbODGWf5B0",
        "outputId": "7216687c-35d8-44d4-8b11-80dbc51d6021"
      },
      "execution_count": 84,
      "outputs": [
        {
          "output_type": "stream",
          "name": "stdout",
          "text": [
            "Tensor Size is :torch.Size([3])\n",
            "Tensor Shape is :torch.Size([3])\n",
            "Tensor Dimension is :1\n",
            "Tensor Device is :cpu\n"
          ]
        }
      ]
    }
  ],
  "metadata": {
    "colab": {
      "name": "Welcome To Colab",
      "provenance": [],
      "gpuType": "T4",
      "include_colab_link": true
    },
    "kernelspec": {
      "display_name": "Python 3",
      "name": "python3"
    },
    "accelerator": "GPU"
  },
  "nbformat": 4,
  "nbformat_minor": 0
}